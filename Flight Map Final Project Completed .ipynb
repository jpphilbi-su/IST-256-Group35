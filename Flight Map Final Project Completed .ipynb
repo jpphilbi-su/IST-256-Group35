{
 "cells": [
  {
   "cell_type": "code",
   "execution_count": null,
   "metadata": {},
   "outputs": [],
   "source": []
  },
  {
   "cell_type": "code",
   "execution_count": 1,
   "metadata": {
    "scrolled": true
   },
   "outputs": [
    {
     "name": "stdout",
     "output_type": "stream",
     "text": [
      "Input the departure airport (use airport abbreviation) : JFK\n",
      "Input the arival airport (use airport abbreviation) : MIA\n",
      "Input the take off date yyyy-mm-dd: 2019-06-13\n",
      "Input the return data yyyy-mm-dd: 2019-06-27\n",
      "   MinPrice        Direct      Departure                Arrival                 Carrier    \n",
      "   267.0           True        2019-06-13T00:00:00      2019-06-27T00:00:00      Delta\n"
     ]
    }
   ],
   "source": [
    "import requests\n",
    "\n",
    "headers = {\n",
    "  \"X-RapidAPI-Host\": \"skyscanner-skyscanner-flight-search-v1.p.rapidapi.com\",\n",
    "    \"X-RapidAPI-Key\": \"86b25a5eafmsh6fbbabcbd4f45b5p161c04jsn0e65d092f481\"\n",
    "}\n",
    "origin = input('Input the departure airport (use airport abbreviation) : ')\n",
    "destination = input('Input the arival airport (use airport abbreviation) : ')\n",
    "outbound = input('Input the take off date yyyy-mm-dd: ')\n",
    "inbound = input('Input the return data yyyy-mm-dd: ')\n",
    "\n",
    "r = requests.get(\"https://skyscanner-skyscanner-flight-search-v1.p.rapidapi.com/apiservices/browsedates/v1.0/US/USD/en-US/{}/{}/{}/{}\"\n",
    ".format(origin, destination, outbound, inbound), headers=headers)\n",
    "\n",
    "response = r.json()\n",
    "quotes = response['Quotes']\n",
    "carriers = response['Carriers']\n",
    "\n",
    "if r.status_code == 200:\n",
    "  response = r.json()\n",
    "  quotes = response['Quotes']\n",
    "  carriers = response['Carriers']\n",
    "\n",
    "  print('   MinPrice    ', '   Direct    ', ' Departure    ', '           Arrival    ', '            Carrier    ')\n",
    "  \n",
    "for q in quotes:\n",
    "    carrierId = q['OutboundLeg']['CarrierIds'][0]\n",
    "    q['Carrier'] = [x for x in carriers if x['CarrierId'] == carrierId][0]\n",
    "\n",
    "    print('  ',q['MinPrice'], '         ', q['Direct'], '      ', q['OutboundLeg']['DepartureDate'], '    ', q['InboundLeg']['DepartureDate'], '    ', q['Carrier']['Name'])\n"
   ]
  },
  {
   "cell_type": "code",
   "execution_count": 6,
   "metadata": {},
   "outputs": [
    {
     "name": "stdout",
     "output_type": "stream",
     "text": [
      "Input the departure airport (use airport abbreviation) : JFK\n",
      "Input the arival airport (use airport abbreviation) : LAX\n",
      "Input the take off date yyyy-mm-dd: 2019-07-01\n",
      "Input the return data yyyy-mm-dd: 2019-08-01\n",
      "   MinPrice        Direct      Departure                Arrival                 Carrier    \n",
      "   417.0           True        2019-07-01T00:00:00      2019-08-01T00:00:00      Alaska Airlines\n",
      "(40.6429479, -73.7793733748521)\n",
      "(33.94220345, -118.421416322584)\n"
     ]
    },
    {
     "data": {
      "text/html": [
       "<div style=\"width:100%;\"><div style=\"position:relative;width:100%;height:0;padding-bottom:60%;\"><iframe src=\"data:text/html;charset=utf-8;base64,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\" style=\"position:absolute;width:100%;height:100%;left:0;top:0;border:none !important;\" allowfullscreen webkitallowfullscreen mozallowfullscreen></iframe></div></div>"
      ],
      "text/plain": [
       "<folium.folium.Map at 0x13ee6e30>"
      ]
     },
     "execution_count": 6,
     "metadata": {},
     "output_type": "execute_result"
    }
   ],
   "source": [
    "from geopy.geocoders import Nominatim\n",
    "import folium \n",
    "import pandas as pd \n",
    "\n",
    "import requests\n",
    "\n",
    "headers = {\n",
    "  \"X-RapidAPI-Host\": \"skyscanner-skyscanner-flight-search-v1.p.rapidapi.com\",\n",
    "    \"X-RapidAPI-Key\": \"86b25a5eafmsh6fbbabcbd4f45b5p161c04jsn0e65d092f481\"\n",
    "}\n",
    "origin = input('Input the departure airport (use airport abbreviation) : ')\n",
    "destination = input('Input the arival airport (use airport abbreviation) : ')\n",
    "outbound = input('Input the take off date yyyy-mm-dd: ')\n",
    "inbound = input('Input the return data yyyy-mm-dd: ')\n",
    "\n",
    "r = requests.get(\"https://skyscanner-skyscanner-flight-search-v1.p.rapidapi.com/apiservices/browsedates/v1.0/US/USD/en-US/{}/{}/{}/{}\"\n",
    ".format(origin, destination, outbound, inbound), headers=headers)\n",
    "\n",
    "response = r.json()\n",
    "quotes = response['Quotes']\n",
    "carriers = response['Carriers']\n",
    "\n",
    "if r.status_code == 200:\n",
    "  response = r.json()\n",
    "  quotes = response['Quotes']\n",
    "  carriers = response['Carriers']\n",
    "\n",
    "  print('   MinPrice    ', '   Direct    ', ' Departure    ', '           Arrival    ', '            Carrier    ')\n",
    "  \n",
    "for q in quotes:\n",
    "    carrierId = q['OutboundLeg']['CarrierIds'][0]\n",
    "    q['Carrier'] = [x for x in carriers if x['CarrierId'] == carrierId][0]\n",
    "\n",
    "    print('  ',q['MinPrice'], '         ', q['Direct'], '      ', q['OutboundLeg']['DepartureDate'], '    ', q['InboundLeg']['DepartureDate'], '    ', q['Carrier']['Name'])\n",
    "\n",
    "\n",
    "geolocator = Nominatim(user_agent=\"specify_your_app_name_here\")\n",
    "location1 = geolocator.geocode(origin)\n",
    "location2 = geolocator.geocode(destination)\n",
    "lat1 = location1.latitude \n",
    "long1 = location1.longitude \n",
    "\n",
    "lat2 = location2.latitude\n",
    "long2 = location2.longitude\n",
    "\n",
    "print((lat1, long1))\n",
    "print((lat2, long2))\n",
    "\n",
    "CENTER_US = (39.8333333,-98.585522)\n",
    "london = (51.5074, -0.1278)\n",
    "map = folium.Map(location=CENTER_US, zoom_start=4)\n",
    "\n",
    "data = pd.DataFrame({\n",
    "'lat':[lat1, lat2],\n",
    "'lon':[long1, long2],\n",
    "'name':[origin, destination]\n",
    "})\n",
    "\n",
    "data\n",
    "for row in data.to_records():\n",
    "    pos = (row['lat'],row['lon'])\n",
    "    message = row['name']\n",
    "    marker = folium.Marker(location=pos, \n",
    "                    popup=message\n",
    "                          )\n",
    "    map.add_child(marker)\n",
    "map\n"
   ]
  }
 ],
 "metadata": {
  "kernelspec": {
   "display_name": "Python 3",
   "language": "python",
   "name": "python3"
  },
  "language_info": {
   "codemirror_mode": {
    "name": "ipython",
    "version": 3
   },
   "file_extension": ".py",
   "mimetype": "text/x-python",
   "name": "python",
   "nbconvert_exporter": "python",
   "pygments_lexer": "ipython3",
   "version": "3.7.2"
  }
 },
 "nbformat": 4,
 "nbformat_minor": 2
}
