{
 "cells": [
  {
   "cell_type": "code",
   "execution_count": null,
   "metadata": {},
   "outputs": [],
   "source": []
  },
  {
   "cell_type": "code",
   "execution_count": null,
   "metadata": {
    "scrolled": true
   },
   "outputs": [],
   "source": []
  },
  {
   "cell_type": "code",
   "execution_count": 4,
   "metadata": {},
   "outputs": [
    {
     "name": "stdout",
     "output_type": "stream",
     "text": [
      "Input the departure airport (use airport abbreviation) : JFK\n",
      "Input the arival airport (use airport abbreviation) : MIA\n",
      "Input the take off date yyyy-mm-dd: 2019-12-25\n",
      "Input the return data yyyy-mm-dd: 2020-01-01\n",
      "   MinPrice        Direct      Departure                Arrival                 Carrier    \n",
      "   617.0           False        2019-12-25T00:00:00      2020-01-01T00:00:00      Delta\n",
      "   725.0           True        2019-12-25T00:00:00      2020-01-01T00:00:00      American Airlines\n",
      "(40.6429479, -73.7793733748521)\n",
      "(25.7949789, -80.2867234109541)\n"
     ]
    },
    {
     "data": {
      "text/html": [
       "<div style=\"width:100%;\"><div style=\"position:relative;width:100%;height:0;padding-bottom:60%;\"><iframe src=\"data:text/html;charset=utf-8;base64,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\" style=\"position:absolute;width:100%;height:100%;left:0;top:0;border:none !important;\" allowfullscreen webkitallowfullscreen mozallowfullscreen></iframe></div></div>"
      ],
      "text/plain": [
       "<folium.folium.Map at 0x58a1d70>"
      ]
     },
     "execution_count": 4,
     "metadata": {},
     "output_type": "execute_result"
    }
   ],
   "source": [
    "from geopy.geocoders import Nominatim\n",
    "import folium \n",
    "import pandas as pd \n",
    "\n",
    "import requests\n",
    "\n",
    "headers = {\n",
    "  \"X-RapidAPI-Host\": \"skyscanner-skyscanner-flight-search-v1.p.rapidapi.com\",\n",
    "    \"X-RapidAPI-Key\": \"86b25a5eafmsh6fbbabcbd4f45b5p161c04jsn0e65d092f481\"\n",
    "}\n",
    "origin = input('Input the departure airport (use airport abbreviation) : ')\n",
    "destination = input('Input the arival airport (use airport abbreviation) : ')\n",
    "outbound = input('Input the take off date yyyy-mm-dd: ')\n",
    "inbound = input('Input the return data yyyy-mm-dd: ')\n",
    "\n",
    "r = requests.get(\"https://skyscanner-skyscanner-flight-search-v1.p.rapidapi.com/apiservices/browsedates/v1.0/US/USD/en-US/{}/{}/{}/{}\"\n",
    ".format(origin, destination, outbound, inbound), headers=headers)\n",
    "\n",
    "response = r.json()\n",
    "quotes = response['Quotes']\n",
    "carriers = response['Carriers']\n",
    "\n",
    "if r.status_code == 200:\n",
    "  response = r.json()\n",
    "  quotes = response['Quotes']\n",
    "  carriers = response['Carriers']\n",
    "\n",
    "  print('   MinPrice    ', '   Direct    ', ' Departure    ', '           Arrival    ', '            Carrier    ')\n",
    "  \n",
    "for q in quotes:\n",
    "    carrierId = q['OutboundLeg']['CarrierIds'][0]\n",
    "    q['Carrier'] = [x for x in carriers if x['CarrierId'] == carrierId][0]\n",
    "\n",
    "    print('  ',q['MinPrice'], '         ', q['Direct'], '      ', q['OutboundLeg']['DepartureDate'], '    ', q['InboundLeg']['DepartureDate'], '    ', q['Carrier']['Name'])\n",
    "\n",
    "\n",
    "geolocator = Nominatim(user_agent=\"specify_your_app_name_here\")\n",
    "location1 = geolocator.geocode(origin)\n",
    "location2 = geolocator.geocode(destination)\n",
    "lat1 = location1.latitude \n",
    "long1 = location1.longitude \n",
    "\n",
    "lat2 = location2.latitude\n",
    "long2 = location2.longitude\n",
    "\n",
    "print((lat1, long1))\n",
    "print((lat2, long2))\n",
    "\n",
    "CENTER_US = (39.8333333,-98.585522)\n",
    "london = (51.5074, -0.1278)\n",
    "map = folium.Map(location=CENTER_US, zoom_start=4)\n",
    "\n",
    "data = pd.DataFrame({\n",
    "'lat':[lat1, lat2],\n",
    "'lon':[long1, long2],\n",
    "'name':[origin, destination]\n",
    "})\n",
    "\n",
    "data\n",
    "for row in data.to_records():\n",
    "    pos = (row['lat'],row['lon'])\n",
    "    message = row['name']\n",
    "    marker = folium.Marker(location=pos, \n",
    "                    popup=message\n",
    "                          )\n",
    "    map.add_child(marker)\n",
    "map\n"
   ]
  },
  {
   "cell_type": "code",
   "execution_count": null,
   "metadata": {},
   "outputs": [],
   "source": []
  },
  {
   "cell_type": "code",
   "execution_count": null,
   "metadata": {},
   "outputs": [],
   "source": []
  }
 ],
 "metadata": {
  "kernelspec": {
   "display_name": "Python 3",
   "language": "python",
   "name": "python3"
  },
  "language_info": {
   "codemirror_mode": {
    "name": "ipython",
    "version": 3
   },
   "file_extension": ".py",
   "mimetype": "text/x-python",
   "name": "python",
   "nbconvert_exporter": "python",
   "pygments_lexer": "ipython3",
   "version": "3.7.2"
  }
 },
 "nbformat": 4,
 "nbformat_minor": 2
}
