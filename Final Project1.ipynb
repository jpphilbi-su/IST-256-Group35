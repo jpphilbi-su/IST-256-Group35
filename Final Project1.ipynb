{
 "cells": [
  {
   "cell_type": "code",
   "execution_count": 7,
   "metadata": {},
   "outputs": [],
   "source": [
    "\n",
    "import requests\n",
    "\n",
    "class ExpediaRequester(object):\n",
    " \n",
    "    apiKey = \"\"\n",
    "    base_url = \"http://terminal2.expedia.com:80/x/\"\n",
    "\n",
    "    def __init__(self, key):\n",
    "        self.apikey = key\n",
    "\n",
    "    def get(self, URL, parameter = None):\n",
    "        url_params = {}\n",
    "        for key, value in parameter.items():\n",
    "            if value is not None:\n",
    "                url_params[key] = value\n",
    "        response = requests.get(URL, params = url_params)\n",
    "        return response.status_code, response.text    \n",
    "    \n",
    "    "
   ]
  },
  {
   "cell_type": "code",
   "execution_count": 8,
   "metadata": {},
   "outputs": [],
   "source": [
    "##Start flights API\n",
    "    \n",
    "def flights_search(self, departureDate = None, returnDate = None, departureAirport = None, arrivalAirport = None, prettyPrint = None, numberOfAdultTravelers = None, childTravelerAge = None, infantSeatingInLap = None, lccAndMerchantFareCheckoutAllowed = None, correlationId = None, maxOfferCount = None):\n",
    "    payload = {}\n",
    "    url = \"http://terminal2.expedia.com:80/x/mflights/search\"\n",
    "    payload['departureDate'] = departureDate\n",
    "    payload['returnDate'] = returnDate\n",
    "    payload['departureAirport'] = departureAirport\n",
    "    payload['arrivalAirport'] = arrivalAirport\n",
    "    payload['prettyPrint'] = str(prettyPrint).lower()\n",
    "    payload['numberOfAdultTravelers'] = str(numberOfAdultTravelers)\n",
    "    payload['childTravelerAge'] = childTravelerAge\n",
    "    payload['infantSeatingInLap'] = str(infantSeatingInLap).lower()\n",
    "    payload['lccAndMerchantFareCheckoutAllowed'] = str(lccAndMerchantFareCheckoutAllowed).lower()\n",
    "    payload['correlationId'] = correlationId\n",
    "    payload['maxOfferCount'] = str(maxOfferCount)\n",
    "    payload['apikey'] = self.apikey\n",
    "    return self.get(url, parameter = payload)\n",
    "\n",
    "def flights_price_range_search(self, fromAirport = None, toAirport = None, departDate = None):\n",
    "    payload = {}\n",
    "    url = \"http://terminal2.expedia.com:80/x/flights/search/1/\"\n",
    "    url += fromAirport\n",
    "    url += \"/\" + toAirport\n",
    "    url += \"/\" + departDate\n",
    "    payload['apikey'] = self.apikey\n",
    "    return self.get(url, parameter = payload)\n",
    "\n",
    "def flights_trends_and_predictions(self, fromAirport = None, toAirport = None, departDate = None):\n",
    "    payload = {}\n",
    "    url = \"http://terminal2.expedia.com:80/x/flights/v3/search/1/\"\n",
    "    url += fromAirport\n",
    "    url += \"/\" + toAirport\n",
    "    url += \"/\" + departDate\n",
    "    payload['apikey'] = self.apikey\n",
    "    return self.get(url, parameter = payload)\n",
    "    \n",
    "    \n",
    "    ##End flights API"
   ]
  }
 ],
 "metadata": {
  "kernelspec": {
   "display_name": "Python 3",
   "language": "python",
   "name": "python3"
  },
  "language_info": {
   "codemirror_mode": {
    "name": "ipython",
    "version": 3
   },
   "file_extension": ".py",
   "mimetype": "text/x-python",
   "name": "python",
   "nbconvert_exporter": "python",
   "pygments_lexer": "ipython3",
   "version": "3.7.2"
  }
 },
 "nbformat": 4,
 "nbformat_minor": 2
}
